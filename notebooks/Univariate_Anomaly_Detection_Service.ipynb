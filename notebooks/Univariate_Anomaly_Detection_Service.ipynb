{
 "cells": [
  {
   "cell_type": "code",
   "execution_count": null,
   "metadata": {},
   "outputs": [],
   "source": [
    "########################################################################\n",
    "# File            : $Id: $\n",
    "# Version         : $Revision: 001 $\n",
    "# Modified On     : $Date: 4th August 2021$\n",
    "#\n",
    "# Language        : Python/Jupyter"
   ]
  },
  {
   "cell_type": "markdown",
   "metadata": {},
   "source": [
    "## Unsupervised Anomaly Detection in Time Series Data"
   ]
  },
  {
   "cell_type": "markdown",
   "metadata": {},
   "source": [
    "Many applications require being able to decide whether a new observation belongs to the same distribution as existing observations (it is an inlier), or should be considered as different (it is an outlier). Often, this ability is used to monitor the Assets.\n"
   ]
  },
  {
   "cell_type": "markdown",
   "metadata": {},
   "source": [
    "The workflow of this notebook is as follows: <br>\n",
    "\n",
    "1. [Provide Credential.](#packageLoad)\n",
    "2. [Load Dataset.](#dataLoad)\n",
    "3. [Compose Anomaly Service and Submit Job.](#pipelineCreation)\n",
    "4. [Monitor Job](#thresholdstats)\n",
    "5. [Result Analysis](#groundtruth)"
   ]
  },
  {
   "cell_type": "markdown",
   "metadata": {},
   "source": [
    "### Credentials"
   ]
  },
  {
   "cell_type": "markdown",
   "metadata": {},
   "source": [
    "This notebook requires two credentials. Please obtain your own credentials when customizing this notebook for your own work. Please visit __[Anomaly Detection @ IBM](https://developer.ibm.com/apis/catalog/ai4industry--anomaly-detection-product/Introduction)__ for trial subscription."
   ]
  },
  {
   "cell_type": "code",
   "execution_count": 12,
   "metadata": {},
   "outputs": [],
   "source": [
    "# Credentials required for running notebook\n",
    "\n",
    "Client_ID = \"replace-with-valid-client-ID\"\n",
    "Client_Secret = \"replace-with-valid-client-Secret\""
   ]
  },
  {
   "cell_type": "markdown",
   "metadata": {},
   "source": [
    "### Load Dataset<a id=\"dataLoad\"></a>"
   ]
  },
  {
   "cell_type": "markdown",
   "metadata": {},
   "source": [
    "In the data below, we have single sensor field representing values from one component. The actual meaning of the values isn't that important for the purpose of this example.\n",
    "\n",
    "The task of anomaly detection is to predict either '1' or '-1' values along with anomaly score. Anomaly label '1' signifies that these samples at that time points are normals. Anomaly label '-1' means these samples are outliers or anomalous. Anomaly models are used to generate alarm in real time."
   ]
  },
  {
   "cell_type": "code",
   "execution_count": null,
   "metadata": {},
   "outputs": [],
   "source": [
    "# try reading datasets from local files\n",
    "import pandas as pd\n",
    "datafile_name = 'sample.csv'\n",
    "data_df = pd.read_csv(\"./datasets/univariate/\" + datafile_name)\n",
    "\n",
    "data_df.head(10)"
   ]
  },
  {
   "cell_type": "markdown",
   "metadata": {},
   "source": [
    "Below plot shows the sensor data for each of the variables, the user can also choose/resample data based upon the domain knowledge."
   ]
  },
  {
   "cell_type": "code",
   "execution_count": null,
   "metadata": {},
   "outputs": [],
   "source": [
    "data_df.plot(subplots=True, figsize=(15, 5))"
   ]
  },
  {
   "cell_type": "markdown",
   "metadata": {},
   "source": [
    "### Anomaly Service Creation and Job Submission <a id=\"pipelineCreation\"></a>"
   ]
  },
  {
   "cell_type": "markdown",
   "metadata": {},
   "source": [
    "Now, we compose anomaly service. User need to provide a local file name and some meta-data information about the data (target_column, time_column, time_format, etc). The detail of these parameters are available at __[IBM API Hub @ IBM](https://developer.ibm.com/apis/catalog/ai4industry--anomaly-detection-product/api/API--ai4industry--anomaly-detection-api#batch_uni)__ for Univariate Anomaly detection service."
   ]
  },
  {
   "cell_type": "code",
   "execution_count": null,
   "metadata": {
    "scrolled": true
   },
   "outputs": [],
   "source": [
    "file_path = './datasets/univariate/' + datafile_name\n",
    "files = {'data_file': (datafile_name, open(file_path, 'rb'))}\n",
    "data = {\n",
    "    'target_column': 'Value',\n",
    "    'time_column': 'Time',\n",
    "    'time_format': None,\n",
    "    'prediction_type': 'entire',\n",
    "    'algorithm_type': 'DeepAD',\n",
    "    'lookback_window': 'auto',\n",
    "    'observation_window': 10,\n",
    "    'scoring_method': 'iid',\n",
    "    'scoring_threshold': 10,\n",
    "    'anomaly_estimator': 'Default',\n",
    "}\n",
    "\n",
    "headers = {\n",
    "    'X-IBM-Client-Id': Client_ID,\n",
    "    'X-IBM-Client-Secret': Client_Secret,\n",
    "    'accept': \"application/json\",\n",
    "    }\n",
    "\n",
    "import requests\n",
    "post_response = requests.post(\"https://api.ibm.com/ai4industry/run/anomaly-detection/timeseries/univariate/batch\", \n",
    "                              data=data,\n",
    "                              files=files,\n",
    "                              headers=headers)\n",
    "\n",
    "post_r_json = post_response.json()\n",
    "anomaly_service_jobId = None\n",
    "if 'jobId' in post_r_json:\n",
    "    anomaly_service_jobId = post_r_json['jobId']\n",
    "    print ('submitted successfully job : ', post_r_json['jobId'])\n",
    "else:\n",
    "    print (post_r_json)"
   ]
  },
  {
   "cell_type": "markdown",
   "metadata": {},
   "source": [
    "### Monitor Anomaly Job <a id=\"pipelineCreation\"></a>\n",
    "\n",
    "Each anomaly detection service call generates one job id. We now track the progress of job. Detail of job execution is covered at __[Get Result](https://developer.ibm.com/apis/catalog/ai4industry--anomaly-detection-product/api/API--ai4industry--anomaly-detection-api#get_result_by_id)__."
   ]
  },
  {
   "cell_type": "code",
   "execution_count": null,
   "metadata": {},
   "outputs": [],
   "source": [
    "import http.client\n",
    "\n",
    "conn = http.client.HTTPSConnection(\"api.ibm.com\")\n",
    "\n",
    "headers = {\n",
    "    'X-IBM-Client-Id': Client_ID,\n",
    "    'X-IBM-Client-Secret': Client_Secret,\n",
    "    'accept': \"application/json\"\n",
    "    }\n",
    "\n",
    "conn.request(\"GET\", \"/ai4industry/run/result/\"+anomaly_service_jobId, headers=headers)\n",
    "res = conn.getresponse()\n",
    "data = res.read()\n",
    "print(data.decode(\"utf-8\"))"
   ]
  },
  {
   "cell_type": "markdown",
   "metadata": {},
   "source": [
    "### Anomaly Results <a id=\"groundtruth\"></a>"
   ]
  },
  {
   "cell_type": "markdown",
   "metadata": {},
   "source": [
    "Now we plot the anomaly score and anomaly label detected by the service."
   ]
  },
  {
   "cell_type": "code",
   "execution_count": null,
   "metadata": {},
   "outputs": [],
   "source": [
    "anomaly_score = [an array]\n",
    "anomaly_label = [an array]\n",
    "\n",
    "# plot anomaly score\n",
    "plt.plot(anomaly_score)\n",
    "plt.title('Prediction')\n",
    "plt.xlabel('Observation')\n",
    "plt.ylabel('Anomaly Score')\n",
    "plt.show()\n",
    "\n",
    "\n",
    "# plot anomaly label\n",
    "plt.plot(anomaly_label)\n",
    "plt.title('Ground Truth')\n",
    "plt.xlabel('Observation')\n",
    "plt.ylabel('Anomaly Score')\n",
    "plt.show()"
   ]
  }
 ],
 "metadata": {
  "interpreter": {
   "hash": "5eb9058bd00f45cd0f44a6291041ebf43ea6e9072fe7fbe26fee6f2c84ceb6d3"
  },
  "kernelspec": {
   "display_name": "Python 3",
   "language": "python",
   "name": "python3"
  },
  "language_info": {
   "codemirror_mode": {
    "name": "ipython",
    "version": 3
   },
   "file_extension": ".py",
   "mimetype": "text/x-python",
   "name": "python",
   "nbconvert_exporter": "python",
   "pygments_lexer": "ipython3",
   "version": "3.8.8"
  }
 },
 "nbformat": 4,
 "nbformat_minor": 1
}
