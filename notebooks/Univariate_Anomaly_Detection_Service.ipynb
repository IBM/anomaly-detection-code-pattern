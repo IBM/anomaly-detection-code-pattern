{
 "cells": [
  {
   "cell_type": "code",
   "execution_count": 1,
   "metadata": {},
   "outputs": [],
   "source": [
    "########################################################################\n",
    "# File            : $Id: $\n",
    "# Version         : $Revision: 001 $\n",
    "# Modified On     : $Date: 1st October 2021$\n",
    "# Service version : 1.1.8\n",
    "# Language        : Python/Jupyter"
   ]
  },
  {
   "cell_type": "markdown",
   "metadata": {},
   "source": [
    "## Unsupervised Anomaly Detection in Time Series Data"
   ]
  },
  {
   "cell_type": "markdown",
   "metadata": {},
   "source": [
    "Many applications require being able to decide whether a new observation belongs to the same distribution as existing observations (it is an inlier), or should be considered as different (it is an outlier). Often, this ability is used to monitor the Assets.\n"
   ]
  },
  {
   "cell_type": "markdown",
   "metadata": {},
   "source": [
    "The workflow of this notebook is as follows: <br>\n",
    "\n",
    "1. [Provide Credential.](#packageLoad)\n",
    "2. [Load Dataset.](#dataLoad)\n",
    "3. [Compose Anomaly Service and Submit Job.](#pipelineCreation)\n",
    "4. [Monitor Job](#thresholdstats)\n",
    "5. [Result Analysis](#groundtruth)"
   ]
  },
  {
   "cell_type": "markdown",
   "metadata": {},
   "source": [
    "### Credentials"
   ]
  },
  {
   "cell_type": "markdown",
   "metadata": {},
   "source": [
    "This notebook requires two credentials. Please obtain your own credentials when customizing this notebook for your own work. Please visit __[Anomaly Detection @ IBM](https://developer.ibm.com/apis/catalog/ai4industry--anomaly-detection-product/Introduction)__ for trial subscription."
   ]
  },
  {
   "cell_type": "code",
   "execution_count": 2,
   "metadata": {},
   "outputs": [],
   "source": [
    "# Credentials required for running notebook\n",
    "\n",
    "Client_ID = \"replace-with-valid-client-ID\"\n",
    "Client_Secret = \"replace-with-valid-client-Secret\""
   ]
  },
  {
   "cell_type": "markdown",
   "metadata": {},
   "source": [
    "### Load Dataset<a id=\"dataLoad\"></a>"
   ]
  },
  {
   "cell_type": "markdown",
   "metadata": {},
   "source": [
    "In the data below, we have single sensor field representing values from one component. The actual meaning of the values isn't that important for the purpose of this example.\n",
    "\n",
    "The task of anomaly detection is to predict either '1' or '-1' values along with anomaly score. Anomaly label '1' signifies that these samples at that time points are normals. Anomaly label '-1' means these samples are outliers or anomalous. Anomaly models are used to generate alarm in real time."
   ]
  },
  {
   "cell_type": "code",
   "execution_count": 3,
   "metadata": {},
   "outputs": [
    {
     "data": {
      "text/html": [
       "<div>\n",
       "<style scoped>\n",
       "    .dataframe tbody tr th:only-of-type {\n",
       "        vertical-align: middle;\n",
       "    }\n",
       "\n",
       "    .dataframe tbody tr th {\n",
       "        vertical-align: top;\n",
       "    }\n",
       "\n",
       "    .dataframe thead th {\n",
       "        text-align: right;\n",
       "    }\n",
       "</style>\n",
       "<table border=\"1\" class=\"dataframe\">\n",
       "  <thead>\n",
       "    <tr style=\"text-align: right;\">\n",
       "      <th></th>\n",
       "      <th>Time</th>\n",
       "      <th>Value</th>\n",
       "    </tr>\n",
       "  </thead>\n",
       "  <tbody>\n",
       "    <tr>\n",
       "      <th>0</th>\n",
       "      <td>0</td>\n",
       "      <td>3.000000</td>\n",
       "    </tr>\n",
       "    <tr>\n",
       "      <th>1</th>\n",
       "      <td>1</td>\n",
       "      <td>1.572558</td>\n",
       "    </tr>\n",
       "    <tr>\n",
       "      <th>2</th>\n",
       "      <td>2</td>\n",
       "      <td>1.873181</td>\n",
       "    </tr>\n",
       "    <tr>\n",
       "      <th>3</th>\n",
       "      <td>3</td>\n",
       "      <td>1.361140</td>\n",
       "    </tr>\n",
       "    <tr>\n",
       "      <th>4</th>\n",
       "      <td>4</td>\n",
       "      <td>1.408475</td>\n",
       "    </tr>\n",
       "    <tr>\n",
       "      <th>5</th>\n",
       "      <td>5</td>\n",
       "      <td>1.908858</td>\n",
       "    </tr>\n",
       "    <tr>\n",
       "      <th>6</th>\n",
       "      <td>6</td>\n",
       "      <td>0.471416</td>\n",
       "    </tr>\n",
       "    <tr>\n",
       "      <th>7</th>\n",
       "      <td>7</td>\n",
       "      <td>-0.755087</td>\n",
       "    </tr>\n",
       "    <tr>\n",
       "      <th>8</th>\n",
       "      <td>8</td>\n",
       "      <td>-1.636673</td>\n",
       "    </tr>\n",
       "    <tr>\n",
       "      <th>9</th>\n",
       "      <td>9</td>\n",
       "      <td>-0.663525</td>\n",
       "    </tr>\n",
       "  </tbody>\n",
       "</table>\n",
       "</div>"
      ],
      "text/plain": [
       "   Time     Value\n",
       "0     0  3.000000\n",
       "1     1  1.572558\n",
       "2     2  1.873181\n",
       "3     3  1.361140\n",
       "4     4  1.408475\n",
       "5     5  1.908858\n",
       "6     6  0.471416\n",
       "7     7 -0.755087\n",
       "8     8 -1.636673\n",
       "9     9 -0.663525"
      ]
     },
     "execution_count": 3,
     "metadata": {},
     "output_type": "execute_result"
    }
   ],
   "source": [
    "# try reading datasets from local files\n",
    "import pandas as pd\n",
    "import matplotlib.pyplot as plt\n",
    "%matplotlib inline\n",
    "\n",
    "datafile_name = 'univariate_sample2.csv'\n",
    "data_df = pd.read_csv(\"./datasets/univariate/\" + datafile_name)\n",
    "\n",
    "data_df.head(10)"
   ]
  },
  {
   "cell_type": "markdown",
   "metadata": {},
   "source": [
    "Below plot shows the sensor data for each of the variables, the user can also choose/resample data based upon the domain knowledge."
   ]
  },
  {
   "cell_type": "code",
   "execution_count": 4,
   "metadata": {},
   "outputs": [
    {
     "data": {
      "text/plain": [
       "array([<matplotlib.axes._subplots.AxesSubplot object at 0x7f9f165020b8>,\n",
       "       <matplotlib.axes._subplots.AxesSubplot object at 0x7f9f1654d588>],\n",
       "      dtype=object)"
      ]
     },
     "execution_count": 4,
     "metadata": {},
     "output_type": "execute_result"
    },
    {
     "data": {
      "image/png": "[encoded data removed]",
      "text/plain": [
       "<Figure size 1080x360 with 2 Axes>"
      ]
     },
     "metadata": {
      "needs_background": "light"
     },
     "output_type": "display_data"
    }
   ],
   "source": [
    "data_df.plot(subplots=True, figsize=(15, 5))"
   ]
  },
  {
   "cell_type": "markdown",
   "metadata": {},
   "source": [
    "### Anomaly Service Creation and Job Submission <a id=\"pipelineCreation\"></a>"
   ]
  },
  {
   "cell_type": "markdown",
   "metadata": {},
   "source": [
    "Now, we compose anomaly service. User need to provide a local file name and some meta-data information about the data (target_column, time_column, time_format, etc). The detail of these parameters are available at __[IBM API Hub @ IBM](https://developer.ibm.com/apis/catalog/ai4industry--anomaly-detection-product/api/API--ai4industry--anomaly-detection-api#batch_uni)__ for Univariate Anomaly detection service."
   ]
  },
  {
   "cell_type": "code",
   "execution_count": 5,
   "metadata": {
    "scrolled": true
   },
   "outputs": [
    {
     "name": "stdout",
     "output_type": "stream",
     "text": [
      "submitted successfully job :  4a6ee994-d75f-4a17-86c1-cf16b0f50cb0\n"
     ]
    }
   ],
   "source": [
    "file_path = './datasets/univariate/' + datafile_name\n",
    "files = {'data_file': (datafile_name, open(file_path, 'rb'))}\n",
    "\n",
    "data = {\n",
    "    'target_column': 'Value',\n",
    "    'time_column': 'Time',\n",
    "    'time_format': 'None',\n",
    "    'prediction_type': 'entire',\n",
    "    'algorithm_type': 'DeepAD',\n",
    "    'lookback_window': 'auto',\n",
    "    'observation_window': 10,\n",
    "    'labeling_method': 'Chi-Square',\n",
    "    'labeling_threshold': 10,\n",
    "    'anomaly_estimator': 'Default',\n",
    "}\n",
    "\n",
    "headers = {\n",
    "    'X-IBM-Client-Id': Client_ID,\n",
    "    'X-IBM-Client-Secret': Client_Secret,\n",
    "    'accept': \"application/json\",\n",
    "    }\n",
    "\n",
    "import requests\n",
    "post_response = requests.post(\"https://api.ibm.com/ai4industry/run/anomaly-detection/timeseries/univariate/batch\", \n",
    "                              data=data,\n",
    "                              files=files,\n",
    "                              headers=headers)\n",
    "\n",
    "post_r_json = post_response.json()\n",
    "anomaly_service_jobId = None\n",
    "if 'jobId' in post_r_json:\n",
    "    anomaly_service_jobId = post_r_json['jobId']\n",
    "    print ('submitted successfully job : ', post_r_json['jobId'])\n",
    "else:\n",
    "    print (post_r_json)"
   ]
  },
  {
   "cell_type": "markdown",
   "metadata": {},
   "source": [
    "### Monitor Anomaly Job <a id=\"pipelineCreation\"></a>\n",
    "\n",
    "Each anomaly detection service call generates one job id. We now track the progress of job. Detail of job execution is covered at __[Get Result](https://developer.ibm.com/apis/catalog/ai4industry--anomaly-detection-product/api/API--ai4industry--anomaly-detection-api#get_result_by_id)__. You may need to the following cell at periodic interval."
   ]
  },
  {
   "cell_type": "code",
   "execution_count": null,
   "metadata": {},
   "outputs": [],
   "source": [
    "import http.client\n",
    "import json\n",
    "\n",
    "\n",
    "conn = http.client.HTTPSConnection(\"api.ibm.com\")\n",
    "\n",
    "headers = {\n",
    "    'X-IBM-Client-Id': Client_ID,\n",
    "    'X-IBM-Client-Secret': Client_Secret,\n",
    "    'accept': \"application/json\"\n",
    "    }\n",
    "\n",
    "conn.request(\"GET\", \"/ai4industry/run/result/\"+anomaly_service_jobId, headers=headers)\n",
    "res = conn.getresponse()\n",
    "data = res.read().decode(\"utf-8\")\n",
    "json_data = json.loads(data)\n",
    "\n",
    "import pprint\n",
    "pp = pprint.PrettyPrinter(indent=4)\n",
    "pp.pprint(json_data)"
   ]
  },
  {
   "cell_type": "markdown",
   "metadata": {},
   "source": [
    "### Anomaly Results <a id=\"groundtruth\"></a>"
   ]
  },
  {
   "cell_type": "markdown",
   "metadata": {},
   "source": [
    "Now we plot the anomaly score and anomaly label detected by the service."
   ]
  },
  {
   "cell_type": "code",
   "execution_count": 9,
   "metadata": {},
   "outputs": [
    {
     "data": {
      "text/html": [
       "<div>\n",
       "<style scoped>\n",
       "    .dataframe tbody tr th:only-of-type {\n",
       "        vertical-align: middle;\n",
       "    }\n",
       "\n",
       "    .dataframe tbody tr th {\n",
       "        vertical-align: top;\n",
       "    }\n",
       "\n",
       "    .dataframe thead th {\n",
       "        text-align: right;\n",
       "    }\n",
       "</style>\n",
       "<table border=\"1\" class=\"dataframe\">\n",
       "  <thead>\n",
       "    <tr style=\"text-align: right;\">\n",
       "      <th></th>\n",
       "      <th>timestamp</th>\n",
       "      <th>anomaly_score</th>\n",
       "      <th>anomaly_label</th>\n",
       "    </tr>\n",
       "  </thead>\n",
       "  <tbody>\n",
       "    <tr>\n",
       "      <th>990</th>\n",
       "      <td>990</td>\n",
       "      <td>0.017007</td>\n",
       "      <td>1.0</td>\n",
       "    </tr>\n",
       "    <tr>\n",
       "      <th>991</th>\n",
       "      <td>991</td>\n",
       "      <td>0.091040</td>\n",
       "      <td>1.0</td>\n",
       "    </tr>\n",
       "    <tr>\n",
       "      <th>992</th>\n",
       "      <td>992</td>\n",
       "      <td>0.023339</td>\n",
       "      <td>1.0</td>\n",
       "    </tr>\n",
       "    <tr>\n",
       "      <th>993</th>\n",
       "      <td>993</td>\n",
       "      <td>0.015247</td>\n",
       "      <td>1.0</td>\n",
       "    </tr>\n",
       "    <tr>\n",
       "      <th>994</th>\n",
       "      <td>994</td>\n",
       "      <td>0.464397</td>\n",
       "      <td>1.0</td>\n",
       "    </tr>\n",
       "    <tr>\n",
       "      <th>995</th>\n",
       "      <td>995</td>\n",
       "      <td>0.807466</td>\n",
       "      <td>1.0</td>\n",
       "    </tr>\n",
       "    <tr>\n",
       "      <th>996</th>\n",
       "      <td>996</td>\n",
       "      <td>0.214162</td>\n",
       "      <td>1.0</td>\n",
       "    </tr>\n",
       "    <tr>\n",
       "      <th>997</th>\n",
       "      <td>997</td>\n",
       "      <td>2.056551</td>\n",
       "      <td>1.0</td>\n",
       "    </tr>\n",
       "    <tr>\n",
       "      <th>998</th>\n",
       "      <td>998</td>\n",
       "      <td>-0.001465</td>\n",
       "      <td>1.0</td>\n",
       "    </tr>\n",
       "    <tr>\n",
       "      <th>999</th>\n",
       "      <td>999</td>\n",
       "      <td>0.023013</td>\n",
       "      <td>1.0</td>\n",
       "    </tr>\n",
       "  </tbody>\n",
       "</table>\n",
       "</div>"
      ],
      "text/plain": [
       "    timestamp  anomaly_score  anomaly_label\n",
       "990       990       0.017007            1.0\n",
       "991       991       0.091040            1.0\n",
       "992       992       0.023339            1.0\n",
       "993       993       0.015247            1.0\n",
       "994       994       0.464397            1.0\n",
       "995       995       0.807466            1.0\n",
       "996       996       0.214162            1.0\n",
       "997       997       2.056551            1.0\n",
       "998       998      -0.001465            1.0\n",
       "999       999       0.023013            1.0"
      ]
     },
     "execution_count": 9,
     "metadata": {},
     "output_type": "execute_result"
    }
   ],
   "source": [
    "result = []\n",
    "result_header = ['timestamp', 'anomaly_score', 'anomaly_label']\n",
    "\n",
    "for item in json_data['summary']['result']:\n",
    "    result.append([item['timestamp'], item['value']['anomaly_score'][0], item['value']['anomaly_label'][0]])\n",
    "\n",
    "result = pd.DataFrame(result)\n",
    "result.columns = result_header\n",
    "result.tail(10)"
   ]
  },
  {
   "cell_type": "code",
   "execution_count": 10,
   "metadata": {},
   "outputs": [
    {
     "data": {
      "text/plain": [
       "array([<matplotlib.axes._subplots.AxesSubplot object at 0x7f9f154495f8>,\n",
       "       <matplotlib.axes._subplots.AxesSubplot object at 0x7f9f16fef1d0>],\n",
       "      dtype=object)"
      ]
     },
     "execution_count": 10,
     "metadata": {},
     "output_type": "execute_result"
    },
    {
     "data": {
      "image/png": "[encoded data removed]",
      "text/plain": [
       "<Figure size 1080x360 with 2 Axes>"
      ]
     },
     "metadata": {
      "needs_background": "light"
     },
     "output_type": "display_data"
    }
   ],
   "source": [
    "plot_data_df = data_df.copy()\n",
    "plot_data_df['anomaly_score'] = result['anomaly_score']\n",
    "plot_data_df[['Value','anomaly_score']].plot(subplots=True, figsize=(15, 5))"
   ]
  },
  {
   "cell_type": "code",
   "execution_count": null,
   "metadata": {},
   "outputs": [],
   "source": []
  }
 ],
 "metadata": {
  "interpreter": {
   "hash": "5eb9058bd00f45cd0f44a6291041ebf43ea6e9072fe7fbe26fee6f2c84ceb6d3"
  },
  "kernelspec": {
   "display_name": "Python 3",
   "language": "python",
   "name": "python3"
  },
  "language_info": {
   "codemirror_mode": {
    "name": "ipython",
    "version": 3
   },
   "file_extension": ".py",
   "mimetype": "text/x-python",
   "name": "python",
   "nbconvert_exporter": "python",
   "pygments_lexer": "ipython3",
   "version": "3.6.8"
  }
 },
 "nbformat": 4,
 "nbformat_minor": 1
}
